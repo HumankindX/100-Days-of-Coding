{
 "cells": [
  {
   "cell_type": "markdown",
   "id": "27848912",
   "metadata": {},
   "source": [
    "# Day 1 for 100 Days of Python\n"
   ]
  },
  {
   "cell_type": "markdown",
   "id": "94eea17e",
   "metadata": {},
   "source": [
    "# Basic"
   ]
  },
  {
   "cell_type": "markdown",
   "id": "4317c258",
   "metadata": {},
   "source": [
    "## 1.Hello World"
   ]
  },
  {
   "cell_type": "code",
   "execution_count": 1,
   "id": "5efaa74a",
   "metadata": {},
   "outputs": [
    {
     "name": "stdout",
     "output_type": "stream",
     "text": [
      "Hello! World\n"
     ]
    }
   ],
   "source": [
    "print(\"Hello! World\")"
   ]
  },
  {
   "cell_type": "markdown",
   "id": "836fd238",
   "metadata": {},
   "source": [
    "## 2. Sum of Two Numbers"
   ]
  },
  {
   "cell_type": "code",
   "execution_count": 4,
   "id": "3216b0f1",
   "metadata": {},
   "outputs": [
    {
     "name": "stdout",
     "output_type": "stream",
     "text": [
      "Enter Number 1: 111\n",
      "Enter Number 2: 222\n",
      "Sum of two numbers is: 333\n"
     ]
    }
   ],
   "source": [
    "a = int(input(\"Enter Number 1: \"))\n",
    "b = int(input(\"Enter Number 2: \"))\n",
    "sum = a+b\n",
    "print(\"Sum of two numbers is:\",sum)"
   ]
  },
  {
   "cell_type": "markdown",
   "id": "afaa3a6c",
   "metadata": {},
   "source": [
    "## 3. Check If given integer is even or odd"
   ]
  },
  {
   "cell_type": "code",
   "execution_count": 10,
   "id": "1f927253",
   "metadata": {},
   "outputs": [
    {
     "name": "stdout",
     "output_type": "stream",
     "text": [
      "Enter A Number: 23\n",
      "Odd\n"
     ]
    }
   ],
   "source": [
    "\n",
    "def even_or_odd(n):\n",
    "    if n%2 == 0:\n",
    "        return \"Even\"\n",
    "    else:\n",
    "        return \"Odd\"\n",
    "\n",
    "n = int(input(\"Enter A Number: \"))\n",
    "Check = even_or_odd(n)\n",
    "print(Check)\n"
   ]
  },
  {
   "cell_type": "markdown",
   "id": "6daffc6c",
   "metadata": {},
   "source": [
    "## 4. Factorial of given number"
   ]
  },
  {
   "cell_type": "markdown",
   "id": "3a824229",
   "metadata": {},
   "source": [
    "### Method 1: Using built in factorial"
   ]
  },
  {
   "cell_type": "code",
   "execution_count": 14,
   "id": "c993623f",
   "metadata": {},
   "outputs": [
    {
     "name": "stdout",
     "output_type": "stream",
     "text": [
      "Enter the number: 22\n",
      "the value of factorial of 22 is 1124000727777607680000\n"
     ]
    }
   ],
   "source": [
    "def factorial(n):\n",
    "    if n ==0 or n== 1:\n",
    "        return 1\n",
    "    else:\n",
    "        return n*factorial(n-1)\n",
    "\n",
    "n = int(input(\"Enter the number: \"))\n",
    "fact = factorial(n)\n",
    "print(f\"the value of factorial of {n} is {fact}\")\n",
    "        \n",
    "    "
   ]
  },
  {
   "cell_type": "markdown",
   "id": "6b0d9d3a",
   "metadata": {},
   "source": [
    "### Method 2: Without using Built in Factorial"
   ]
  },
  {
   "cell_type": "code",
   "execution_count": 16,
   "id": "112cba68",
   "metadata": {},
   "outputs": [
    {
     "name": "stdout",
     "output_type": "stream",
     "text": [
      "Enter a number: 22\n",
      "The factorial of 22 is 1124000727777607680000\n"
     ]
    }
   ],
   "source": [
    "def factorial(n):\n",
    "    if n == 0 or n==1:\n",
    "        return 1\n",
    "    \n",
    "    factorial = 1\n",
    "    for i in range(2, n + 1):\n",
    "        factorial *= i\n",
    "    return factorial\n",
    "\n",
    "num = int(input(\"Enter a number: \"))\n",
    "\n",
    "fact = factorial(num)\n",
    "\n",
    "print(f\"The factorial of {num} is {fact}\")"
   ]
  },
  {
   "cell_type": "markdown",
   "id": "76cb75ac",
   "metadata": {},
   "source": [
    "## 5. String Palindrome"
   ]
  },
  {
   "cell_type": "code",
   "execution_count": 19,
   "id": "3f9cb550",
   "metadata": {},
   "outputs": [
    {
     "name": "stdout",
     "output_type": "stream",
     "text": [
      "Enter a string: Naman\n",
      "The given string is a palindrome.\n"
     ]
    }
   ],
   "source": [
    "def is_palindrome(s):\n",
    "    # Remove spaces and convert to lowercase\n",
    "    s = s.replace(\" \", \"\").lower()\n",
    "    \n",
    "    # Remove punctuation\n",
    "    import string\n",
    "    s = s.translate(str.maketrans(\"\", \"\", string.punctuation))\n",
    "    \n",
    "    # Compare characters from start and end\n",
    "    left = 0\n",
    "    right = len(s) - 1\n",
    "    \n",
    "    while left < right:\n",
    "        if s[left] != s[right]:\n",
    "            return False\n",
    "        left += 1\n",
    "        right -= 1\n",
    "    \n",
    "    return True\n",
    "\n",
    "# Get input from the user\n",
    "input_string = input(\"Enter a string: \")\n",
    "\n",
    "# Check if it's a palindrome\n",
    "if is_palindrome(input_string):\n",
    "    print(\"The given string is a palindrome.\")\n",
    "else:\n",
    "    print(\"The given string is not a palindrome.\")\n"
   ]
  },
  {
   "cell_type": "code",
   "execution_count": null,
   "id": "f4ad44b9",
   "metadata": {},
   "outputs": [],
   "source": []
  }
 ],
 "metadata": {
  "kernelspec": {
   "display_name": "Python 3 (ipykernel)",
   "language": "python",
   "name": "python3"
  },
  "language_info": {
   "codemirror_mode": {
    "name": "ipython",
    "version": 3
   },
   "file_extension": ".py",
   "mimetype": "text/x-python",
   "name": "python",
   "nbconvert_exporter": "python",
   "pygments_lexer": "ipython3",
   "version": "3.10.9"
  }
 },
 "nbformat": 4,
 "nbformat_minor": 5
}

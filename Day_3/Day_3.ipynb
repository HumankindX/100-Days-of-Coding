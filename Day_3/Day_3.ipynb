{
 "cells": [
  {
   "cell_type": "markdown",
   "id": "7582f8e9",
   "metadata": {},
   "source": [
    "1. Given a list of numbers, find and print the maximum and minimum values.\n",
    "2. Write a program to calculate the perimeter of a circle given its radius.\n",
    "3. Check if a given string is a palindrome without considering spaces and capitalization.\n",
    "4. Calculate the sum of squares of all even numbers from 1 to n.\n",
    "5. Generate the first n prime numbers."
   ]
  },
  {
   "cell_type": "markdown",
   "id": "0c023abf",
   "metadata": {},
   "source": [
    "# Day 4 Of 100 days of coding"
   ]
  },
  {
   "cell_type": "markdown",
   "id": "d9d17805",
   "metadata": {},
   "source": [
    "## Basic"
   ]
  },
  {
   "cell_type": "markdown",
   "id": "c5d3df0d",
   "metadata": {},
   "source": [
    "### 1. Given a list of numbers, find and print the maximum and minimum values"
   ]
  },
  {
   "cell_type": "code",
   "execution_count": 3,
   "id": "d156b904",
   "metadata": {},
   "outputs": [
    {
     "name": "stdout",
     "output_type": "stream",
     "text": [
      "Enter a list of numbers seperated by spaces: 12 43 45 56 78 90 9 8 1 0 23 45 56 78 \n",
      "The max value of given list of integers is: 90 \n",
      "The min value of the given list of integers is: 0\n"
     ]
    }
   ],
   "source": [
    "def find_min_max(numbers):         # The find_max_min function takes a list of numbers as input.\n",
    "    if not numbers:\n",
    "        return None, None\n",
    "    max_value = numbers[0]         #Initializes max_value and min_value with the first number in the list.\n",
    "    min_value = numbers[0]\n",
    "    \n",
    "    for num in numbers:            # Iterates through the rest of the numbers in the list and updates max_value and min_value accordingly\n",
    "        if num > max_value:\n",
    "            max_value = num\n",
    "        if num < min_value:\n",
    "            min_value = num\n",
    "            \n",
    "    return max_value, min_value\n",
    "\n",
    "input_str = input(\"Enter a list of numbers seperated by spaces: \")       # main part of the program takes input from the user, splits the input into individual numbers, and stores them in the numbers list.\n",
    "numbers = [int(x) for x in input_str.split()]\n",
    "\n",
    "max_val, min_val = find_min_max(numbers)\n",
    "\n",
    "#Print the result\n",
    "if max_val is not None and min_val is not None:                                \n",
    "    print(f\"The max value of given list of integers is: {max_val} \")\n",
    "    print(f\"The min value of the given list of integers is: {min_val}\")\n",
    "else:\n",
    "    print(\"No numbers were inserted\")"
   ]
  },
  {
   "cell_type": "markdown",
   "id": "4c1ca000",
   "metadata": {},
   "source": [
    "### 2. Write a program to calculate the perimeter of a circle given its radius."
   ]
  },
  {
   "cell_type": "code",
   "execution_count": 6,
   "id": "05d1618b",
   "metadata": {},
   "outputs": [
    {
     "name": "stdout",
     "output_type": "stream",
     "text": [
      "Enter radius of circle:  1\n",
      "The circle of radius 1 has perimeter of 6.283185307179586\n"
     ]
    }
   ],
   "source": [
    "import math\n",
    "pi = math.pi\n",
    "def perimeter_of_circle(radius):\n",
    "    Perimeter = 2*pi*radius\n",
    "    return Perimeter\n",
    "radius = int(input(\"Enter radius of circle:  \"))\n",
    "Result = perimeter_of_circle(radius)\n",
    "print(f\"The circle of radius {radius} has perimeter of {Result}\")\n"
   ]
  },
  {
   "cell_type": "markdown",
   "id": "e6a10517",
   "metadata": {},
   "source": [
    "### 3. Check if a given string is a palindrome without considering spaces and capitalization"
   ]
  },
  {
   "cell_type": "code",
   "execution_count": 7,
   "id": "602b6fe9",
   "metadata": {},
   "outputs": [
    {
     "name": "stdout",
     "output_type": "stream",
     "text": [
      "Enter a string: Naman\n",
      "The given string is a palindrome.\n"
     ]
    }
   ],
   "source": [
    "def is_palindrome(s):\n",
    "    # Remove spaces and convert to lowercase\n",
    "    s = s.replace(\" \", \"\").lower()\n",
    "    \n",
    "    left = 0\n",
    "    right = len(s) - 1\n",
    "    \n",
    "    while left < right:\n",
    "        if s[left] != s[right]:\n",
    "            return False\n",
    "        left += 1\n",
    "        right -= 1\n",
    "    \n",
    "    return True\n",
    "\n",
    "# Get input from the user\n",
    "input_string = input(\"Enter a string: \")\n",
    "\n",
    "# Check if it's a palindrome\n",
    "if is_palindrome(input_string):\n",
    "    print(\"The given string is a palindrome.\")\n",
    "else:\n",
    "    print(\"The given string is not a palindrome.\")\n"
   ]
  },
  {
   "cell_type": "markdown",
   "id": "ef3902eb",
   "metadata": {},
   "source": [
    "### 4.  Calculate the sum of squares of all even numbers from 1 to n."
   ]
  },
  {
   "cell_type": "code",
   "execution_count": 8,
   "id": "185d31ef",
   "metadata": {},
   "outputs": [
    {
     "name": "stdout",
     "output_type": "stream",
     "text": [
      "Enter a number: 8\n",
      "The sum of squares of even numbers from 1 to 8 is: 120\n"
     ]
    }
   ],
   "source": [
    "def sum_of_even_squares(n):\n",
    "    total = 0\n",
    "    for num in range(2, n + 1, 2):\n",
    "        total += num ** 2\n",
    "    return total\n",
    "\n",
    "# Get input from the user\n",
    "n = int(input(\"Enter a number: \"))\n",
    "\n",
    "# Calculate the sum of squares of even numbers\n",
    "result = sum_of_even_squares(n)\n",
    "\n",
    "# Print the result\n",
    "print(f\"The sum of squares of even numbers from 1 to {n} is: {result}\")\n"
   ]
  },
  {
   "cell_type": "markdown",
   "id": "c66631f1",
   "metadata": {},
   "source": [
    "### 5. Generate the first n prime numbers"
   ]
  },
  {
   "cell_type": "code",
   "execution_count": 9,
   "id": "65d6ddee",
   "metadata": {},
   "outputs": [
    {
     "name": "stdout",
     "output_type": "stream",
     "text": [
      "Enter a number: 24\n",
      "The sum of squares of even numbers from 1 to 24 is: 2600\n"
     ]
    }
   ],
   "source": [
    "def sum_of_even_squares(n):\n",
    "    total = 0\n",
    "    for num in range(2, n + 1, 2):\n",
    "        total += num ** 2\n",
    "    return total\n",
    "\n",
    "# Get input from the user\n",
    "n = int(input(\"Enter a number: \"))\n",
    "\n",
    "# Calculate the sum of squares of even numbers\n",
    "result = sum_of_even_squares(n)\n",
    "\n",
    "# Print the result\n",
    "print(f\"The sum of squares of even numbers from 1 to {n} is: {result}\")\n"
   ]
  },
  {
   "cell_type": "code",
   "execution_count": null,
   "id": "6285718d",
   "metadata": {},
   "outputs": [],
   "source": []
  }
 ],
 "metadata": {
  "kernelspec": {
   "display_name": "Python 3 (ipykernel)",
   "language": "python",
   "name": "python3"
  },
  "language_info": {
   "codemirror_mode": {
    "name": "ipython",
    "version": 3
   },
   "file_extension": ".py",
   "mimetype": "text/x-python",
   "name": "python",
   "nbconvert_exporter": "python",
   "pygments_lexer": "ipython3",
   "version": "3.10.9"
  }
 },
 "nbformat": 4,
 "nbformat_minor": 5
}

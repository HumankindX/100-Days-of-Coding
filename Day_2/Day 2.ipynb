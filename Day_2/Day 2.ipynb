{
 "cells": [
  {
   "cell_type": "markdown",
   "id": "04d53c1d",
   "metadata": {},
   "source": [
    "# Day 2 of 100 Days of Python"
   ]
  },
  {
   "cell_type": "markdown",
   "id": "8a349b0a",
   "metadata": {},
   "source": [
    "## Basic"
   ]
  },
  {
   "cell_type": "markdown",
   "id": "44c19957",
   "metadata": {},
   "source": [
    "### 1. Area Of Rectangle"
   ]
  },
  {
   "cell_type": "code",
   "execution_count": 2,
   "id": "4979d00e",
   "metadata": {},
   "outputs": [
    {
     "name": "stdout",
     "output_type": "stream",
     "text": [
      "Enter length of the rectangle: 445\n",
      "Enter bredth of the rectangle: 442\n",
      "The Area of of rectangle of 445 and 442 is 196690\n"
     ]
    }
   ],
   "source": [
    "def Rectangle(length,bredth):\n",
    "    Area = length*bredth\n",
    "    return Area\n",
    "length = int(input(\"Enter length of the rectangle: \"))\n",
    "bredth = int(input(\"Enter bredth of the rectangle: \"))\n",
    "result = Rectangle(length,bredth)\n",
    "print(f\"The Area of of rectangle of {length} and {bredth} is {result}\")"
   ]
  },
  {
   "cell_type": "markdown",
   "id": "2225b4c3",
   "metadata": {},
   "source": [
    "### 2. Temprature Conversion"
   ]
  },
  {
   "cell_type": "code",
   "execution_count": 17,
   "id": "b8790677",
   "metadata": {},
   "outputs": [
    {
     "name": "stdout",
     "output_type": "stream",
     "text": [
      "Temperature Conversion\n",
      "1. Celsius to Fahrenheit\n",
      "2. Fahrenheit to Celsius\n",
      "Enter your choice (1/2): 1\n",
      "Enter temperature in Celsius: 23\n",
      "23.0°C is 73.40°F\n"
     ]
    }
   ],
   "source": [
    "def celsius_to_fahrenheit(celsius):\n",
    "    fahrenheit = (celsius * 9/5) + 32\n",
    "    return fahrenheit\n",
    "\n",
    "def fahrenheit_to_celsius(fahrenheit):\n",
    "    celsius = (fahrenheit - 32) * 5/9\n",
    "    return celsius\n",
    "\n",
    "def main():\n",
    "    print(\"Temperature Conversion\")\n",
    "    print(\"1. Celsius to Fahrenheit\")\n",
    "    print(\"2. Fahrenheit to Celsius\")\n",
    "    choice = int(input(\"Enter your choice (1/2): \"))\n",
    "\n",
    "    if choice == 1:\n",
    "        celsius_temp = float(input(\"Enter temperature in Celsius: \"))\n",
    "        converted_temp = celsius_to_fahrenheit(celsius_temp)\n",
    "        print(f\"{celsius_temp}°C is {converted_temp:.2f}°F\")\n",
    "    elif choice == 2:\n",
    "        fahrenheit_temp = float(input(\"Enter temperature in Fahrenheit: \"))\n",
    "        converted_temp = fahrenheit_to_celsius(fahrenheit_temp)\n",
    "        print(f\"{fahrenheit_temp}°F is {converted_temp:.2f}°C\")\n",
    "    else:\n",
    "        print(\"Invalid choice\")\n",
    "\n",
    "if __name__ == \"__main__\":\n",
    "    main()\n"
   ]
  },
  {
   "cell_type": "markdown",
   "id": "772008d2",
   "metadata": {},
   "source": [
    "### 3. Square of Even Numbers"
   ]
  },
  {
   "cell_type": "code",
   "execution_count": 14,
   "id": "61fddf90",
   "metadata": {},
   "outputs": [
    {
     "name": "stdout",
     "output_type": "stream",
     "text": [
      "Enter a Even Number: 6\n",
      "Square of 6 is 36\n"
     ]
    }
   ],
   "source": [
    "def square(number):\n",
    "    if number%2 == 0:\n",
    "        return number**2\n",
    "    else:\n",
    "        return None\n",
    "    \n",
    "even_number = int(input(\"Enter a Even Number: \"))\n",
    "result = square(even_number)\n",
    "if result is not None:\n",
    "    print(f\"Square of {even_number} is {result}\")\n",
    "else:\n",
    "    print(f\"{even_number} is not a square\")\n",
    "    \n",
    "\n",
    "\n",
    "        "
   ]
  },
  {
   "cell_type": "markdown",
   "id": "ae22b18a",
   "metadata": {},
   "source": [
    "### 4. Leap Year"
   ]
  },
  {
   "cell_type": "code",
   "execution_count": 20,
   "id": "2d773acf",
   "metadata": {},
   "outputs": [
    {
     "name": "stdout",
     "output_type": "stream",
     "text": [
      "Enter the Year: 2000\n",
      "Given year is leap year\n"
     ]
    }
   ],
   "source": [
    "def leap_year(year):\n",
    "    if (year%4 == 0 and year%100 != 0) or (year%400 == 0):\n",
    "        return \"Given year is leap year\"\n",
    "    else:\n",
    "        return \"Given year is not a leap year\"\n",
    "    \n",
    "n = int(input(\"Enter the Year: \"))\n",
    "result = year(n)\n",
    "print(result)"
   ]
  },
  {
   "cell_type": "markdown",
   "id": "51a9405f",
   "metadata": {},
   "source": [
    "### 5. Swapping the value"
   ]
  },
  {
   "cell_type": "code",
   "execution_count": 21,
   "id": "b9fb511b",
   "metadata": {},
   "outputs": [
    {
     "name": "stdout",
     "output_type": "stream",
     "text": [
      "Before swapping: x = 5, y = 10\n",
      "After swapping: x = 10, y = 5\n"
     ]
    }
   ],
   "source": [
    "def swap_without_temp(a, b):\n",
    "    a = a + b\n",
    "    b = a - b\n",
    "    a = a - b\n",
    "    return a, b\n",
    "\n",
    "# Example usage\n",
    "x = 5\n",
    "y = 10\n",
    "\n",
    "print(f\"Before swapping: x = {x}, y = {y}\")\n",
    "x, y = swap_without_temp(x, y)\n",
    "print(f\"After swapping: x = {x}, y = {y}\")\n"
   ]
  },
  {
   "cell_type": "code",
   "execution_count": null,
   "id": "0af9810d",
   "metadata": {},
   "outputs": [],
   "source": []
  }
 ],
 "metadata": {
  "kernelspec": {
   "display_name": "Python 3 (ipykernel)",
   "language": "python",
   "name": "python3"
  },
  "language_info": {
   "codemirror_mode": {
    "name": "ipython",
    "version": 3
   },
   "file_extension": ".py",
   "mimetype": "text/x-python",
   "name": "python",
   "nbconvert_exporter": "python",
   "pygments_lexer": "ipython3",
   "version": "3.10.9"
  }
 },
 "nbformat": 4,
 "nbformat_minor": 5
}
